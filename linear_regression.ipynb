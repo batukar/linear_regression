{
 "cells": [
  {
   "cell_type": "markdown",
   "metadata": {},
   "source": [
    "## Simple Linear Regression"
   ]
  },
  {
   "cell_type": "code",
   "execution_count": 332,
   "metadata": {},
   "outputs": [],
   "source": [
    "# Importing the libraries\n",
    "# Splitting the dataset into the Training set and Test set\n",
    "from sklearn.model_selection import train_test_split\n",
    "import numpy as np\n",
    "import matplotlib.pyplot as plt\n",
    "import pandas as pd\n",
    "from sklearn.metrics import mean_squared_error, r2_score\n",
    "from sklearn.preprocessing import MinMaxScaler\n",
    "from sklearn.linear_model import LinearRegression\n",
    "from sklearn.preprocessing import PolynomialFeatures"
   ]
  },
  {
   "cell_type": "code",
   "execution_count": 333,
   "metadata": {},
   "outputs": [],
   "source": [
    "def get_dataset(title):\n",
    "    return pd.read_csv(title+'.csv')"
   ]
  },
  {
   "cell_type": "code",
   "execution_count": 334,
   "metadata": {},
   "outputs": [],
   "source": [
    "def data_reshape(data,key):\n",
    "    return data[key].values.reshape(-1,1)"
   ]
  },
  {
   "cell_type": "code",
   "execution_count": 335,
   "metadata": {},
   "outputs": [],
   "source": [
    "def data_min_max_norm(data): \n",
    "    return MinMaxScaler().fit_transform(data)"
   ]
  },
  {
   "cell_type": "code",
   "execution_count": 336,
   "metadata": {},
   "outputs": [],
   "source": [
    "dataset=get_dataset(title='Salary_Data')\n",
    "X_ = data_reshape(data=dataset,key='YearsExperience')\n",
    "y_ = data_reshape(data=dataset,key='Salary')"
   ]
  },
  {
   "cell_type": "code",
   "execution_count": 337,
   "metadata": {},
   "outputs": [],
   "source": [
    "X = data_min_max_norm(data=X_)\n",
    "y = data_min_max_norm(data=y_)"
   ]
  },
  {
   "cell_type": "code",
   "execution_count": 338,
   "metadata": {},
   "outputs": [],
   "source": [
    "X_train, X_test, y_train, y_test = train_test_split(X, y, test_size = 1/3, random_state = 0)"
   ]
  },
  {
   "cell_type": "code",
   "execution_count": 339,
   "metadata": {},
   "outputs": [],
   "source": [
    "def poly_features(data,degree=4):\n",
    "    return PolynomialFeatures(degree = degree).fit_transform(data)"
   ]
  },
  {
   "cell_type": "code",
   "execution_count": 340,
   "metadata": {},
   "outputs": [],
   "source": [
    "def lin_reg_fit(x,y):\n",
    "    return LinearRegression().fit(x,y)"
   ]
  },
  {
   "cell_type": "code",
   "execution_count": 341,
   "metadata": {},
   "outputs": [],
   "source": [
    "def lin_reg_predict(lin_reg_model,data):\n",
    "    if lin_reg_model!=None:\n",
    "        return lin_reg_model.predict(data)\n",
    "    else:\n",
    "        print('Model is not valid')\n",
    "        return None"
   ]
  },
  {
   "cell_type": "code",
   "execution_count": 342,
   "metadata": {},
   "outputs": [],
   "source": [
    "def shape_write(data,title='data'):\n",
    "    print('{} shape: {}'.format(title,data.shape))"
   ]
  },
  {
   "cell_type": "code",
   "execution_count": 404,
   "metadata": {},
   "outputs": [],
   "source": [
    "def accuracy_calculater(lin_reg_model,y_data,y_pred):\n",
    "    print(\"Coefficients(slope of the line):\", lin_reg_model.coef_)\n",
    "    print(\"Mean squared error: %.2f\"% mean_squared_error(y_data,y_pred))\n",
    "    print(\"R-square: %.2f’\" % r2_score(y_data,y_pred),end='\\n')"
   ]
  },
  {
   "cell_type": "code",
   "execution_count": 405,
   "metadata": {},
   "outputs": [],
   "source": [
    "def plot_data(lin_reg_model,x_data,y_data,x_title='x data',y_title='y data',color_data='red',color_line='blue'):\n",
    "    plt.scatter(x_data, y_data, color = color_data)\n",
    "    plt.plot(x_data, lin_reg_model.predict(x_data), color = color_line)\n",
    "    plt.title('Fitted Line:  y = %.2f + %.2f * x'% (lin_reg_model.intercept_, lin_reg_model.coef_))\n",
    "    plt.ylabel(y_title)\n",
    "    plt.xlabel(x_title)\n",
    "    plt.show()"
   ]
  },
  {
   "cell_type": "code",
   "execution_count": 406,
   "metadata": {},
   "outputs": [],
   "source": [
    "def plot_data_poly(lin_reg_model,x_data,y_data,X,x_title='x data',y_title='y data',color_data='red',color_line='blue'):\n",
    "    X_grid = np.arange(min(X),max(X),((max(X)-min(X))/len(X))).reshape(-1,1)\n",
    "    plt.scatter(x_data, y_data, color = color_data)\n",
    "    plt.plot(X_grid, lin_reg_model.predict(poly_features(X_grid)), color = color_line)\n",
    "    plt.title('Polynomial Regression results')\n",
    "    plt.ylabel(y_title)\n",
    "    plt.xlabel(x_title)\n",
    "    plt.show()"
   ]
  },
  {
   "cell_type": "code",
   "execution_count": 407,
   "metadata": {},
   "outputs": [],
   "source": [
    "lin_reg_normal = lin_reg_fit(X_train,y_train)\n",
    "y_pred_normal = lin_reg_predict(lin_reg_normal,X_test)"
   ]
  },
  {
   "cell_type": "code",
   "execution_count": 408,
   "metadata": {},
   "outputs": [
    {
     "name": "stdout",
     "output_type": "stream",
     "text": [
      "data shape: (20, 1)\n",
      "data shape: (20, 1)\n"
     ]
    }
   ],
   "source": [
    "shape_write(X_train)\n",
    "shape_write(y_train)"
   ]
  },
  {
   "cell_type": "code",
   "execution_count": 409,
   "metadata": {},
   "outputs": [
    {
     "name": "stdout",
     "output_type": "stream",
     "text": [
      "Coefficients(slope of the line): [[1.03770209]]\n",
      "Mean squared error: 0.00\n",
      "R-square: 0.97’\n"
     ]
    }
   ],
   "source": [
    "accuracy_calculater(lin_reg_normal,y_test,y_pred_normal)"
   ]
  },
  {
   "cell_type": "code",
   "execution_count": 410,
   "metadata": {},
   "outputs": [
    {
     "data": {
      "image/png": "[encoded data removed]",
      "text/plain": [
       "<Figure size 432x288 with 1 Axes>"
      ]
     },
     "metadata": {
      "needs_background": "light"
     },
     "output_type": "display_data"
    }
   ],
   "source": [
    "plot_data(lin_reg_normal,X_train,y_train)"
   ]
  },
  {
   "cell_type": "code",
   "execution_count": 420,
   "metadata": {},
   "outputs": [],
   "source": [
    "X_poly_train = poly_features(data=X_train,degree = 4)\n",
    "y_poly_train = poly_features(data=y_train,degree = 4)\n",
    "X_poly_test = poly_features(data=X_test,degree = 4)\n",
    "y_poly_test = poly_features(data=y_test,degree = 4)\n",
    "\n",
    "lin_reg_poly = lin_reg_fit(X_poly_train,y_train)\n",
    "\n",
    "y_pred_poly_train = lin_reg_predict(lin_reg_poly,X_poly_train)\n",
    "y_pred_poly_test = lin_reg_predict(lin_reg_poly,X_poly_test)"
   ]
  },
  {
   "cell_type": "code",
   "execution_count": 421,
   "metadata": {},
   "outputs": [
    {
     "name": "stdout",
     "output_type": "stream",
     "text": [
      "Train:\n",
      "Coefficients(slope of the line): [[ 0.          0.51834657  0.70334253  0.81918224 -1.11324768]]\n",
      "Mean squared error: 0.00\n",
      "R-square: 0.95’\n",
      "\n",
      "Test:\n",
      "Coefficients(slope of the line): [[ 0.          0.51834657  0.70334253  0.81918224 -1.11324768]]\n",
      "Mean squared error: 0.00\n",
      "R-square: 0.97’\n"
     ]
    }
   ],
   "source": [
    "print('Train:')\n",
    "accuracy_calculater(lin_reg_poly,y_train,y_pred_poly_train)\n",
    "print('\\nTest:')\n",
    "accuracy_calculater(lin_reg_poly,y_test,y_pred_poly_test)"
   ]
  },
  {
   "cell_type": "code",
   "execution_count": 422,
   "metadata": {},
   "outputs": [
    {
     "name": "stdout",
     "output_type": "stream",
     "text": [
      "Train:\n",
      "data shape: (20, 5)\n",
      "data shape: (20, 5)\n",
      "\n",
      "Test:\n",
      "data shape: (10, 5)\n",
      "data shape: (10, 5)\n"
     ]
    }
   ],
   "source": [
    "print('Train:')\n",
    "shape_write(X_poly_train)\n",
    "shape_write(y_poly_train)\n",
    "print('\\nTest:')\n",
    "shape_write(X_poly_test)\n",
    "shape_write(y_poly_test)"
   ]
  },
  {
   "cell_type": "code",
   "execution_count": 423,
   "metadata": {},
   "outputs": [
    {
     "name": "stdout",
     "output_type": "stream",
     "text": [
      "Train:\n"
     ]
    },
    {
     "data": {
      "image/png": "[encoded data removed]",
      "text/plain": [
       "<Figure size 432x288 with 1 Axes>"
      ]
     },
     "metadata": {
      "needs_background": "light"
     },
     "output_type": "display_data"
    }
   ],
   "source": [
    "print('Train:')\n",
    "plot_data_poly(lin_reg_poly,X_poly_train,y_poly_train,X_train)"
   ]
  },
  {
   "cell_type": "code",
   "execution_count": 424,
   "metadata": {},
   "outputs": [
    {
     "name": "stdout",
     "output_type": "stream",
     "text": [
      "Test:\n"
     ]
    },
    {
     "data": {
      "image/png": "[encoded data removed]",
      "text/plain": [
       "<Figure size 432x288 with 1 Axes>"
      ]
     },
     "metadata": {
      "needs_background": "light"
     },
     "output_type": "display_data"
    }
   ],
   "source": [
    "print('Test:')\n",
    "plot_data_poly(lin_reg_poly,X_poly_test,y_poly_test,X_test)"
   ]
  }
 ],
 "metadata": {
  "kernelspec": {
   "display_name": "Python 3",
   "language": "python",
   "name": "python3"
  },
  "language_info": {
   "codemirror_mode": {
    "name": "ipython",
    "version": 3
   },
   "file_extension": ".py",
   "mimetype": "text/x-python",
   "name": "python",
   "nbconvert_exporter": "python",
   "pygments_lexer": "ipython3",
   "version": "3.7.7"
  }
 },
 "nbformat": 4,
 "nbformat_minor": 4
}
